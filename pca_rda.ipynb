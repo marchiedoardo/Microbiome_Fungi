{
 "cells": [
  {
   "cell_type": "code",
   "execution_count": 2,
   "id": "b41e4152-77a2-4eff-a489-e888615e9c38",
   "metadata": {
    "vscode": {
     "languageId": "r"
    }
   },
   "outputs": [
    {
     "name": "stderr",
     "output_type": "stream",
     "text": [
      "Installing package into 'C:/Users/edo13/AppData/Local/R/win-library/4.4'\n",
      "(as 'lib' is unspecified)\n",
      "\n"
     ]
    },
    {
     "name": "stdout",
     "output_type": "stream",
     "text": [
      "package 'gclus' successfully unpacked and MD5 sums checked\n",
      "\n",
      "The downloaded binary packages are in\n",
      "\tC:\\Users\\edo13\\AppData\\Local\\Temp\\RtmpAZeQN1\\downloaded_packages\n"
     ]
    },
    {
     "name": "stderr",
     "output_type": "stream",
     "text": [
      "Installing package into 'C:/Users/edo13/AppData/Local/R/win-library/4.4'\n",
      "(as 'lib' is unspecified)\n",
      "\n"
     ]
    },
    {
     "name": "stdout",
     "output_type": "stream",
     "text": [
      "package 'devtools' successfully unpacked and MD5 sums checked\n",
      "\n",
      "The downloaded binary packages are in\n",
      "\tC:\\Users\\edo13\\AppData\\Local\\Temp\\RtmpAZeQN1\\downloaded_packages\n"
     ]
    }
   ],
   "source": [
    "install.packages(\"gclus\")\n",
    "\n",
    "install.packages(\"devtools\")\n",
    "#library(ggvegan)"
   ]
  },
  {
   "cell_type": "code",
   "execution_count": 3,
   "id": "2ee91265-08d8-4f37-a665-9b120223b9d9",
   "metadata": {
    "vscode": {
     "languageId": "r"
    }
   },
   "outputs": [
    {
     "name": "stderr",
     "output_type": "stream",
     "text": [
      "Loading required package: permute\n",
      "\n",
      "Loading required package: lattice\n",
      "\n",
      "This is vegan 2.7-0\n",
      "\n",
      "Loading required package: cluster\n",
      "\n",
      "Registered S3 method overwritten by 'gclus':\n",
      "  method         from \n",
      "  reorder.hclust vegan\n",
      "\n"
     ]
    }
   ],
   "source": [
    "library(vegan)\n",
    "library(readxl)\n",
    "library(ggplot2)\n",
    "library(tibble)\n",
    "library(gclus)\n",
    "library(repr)"
   ]
  },
  {
   "cell_type": "code",
   "execution_count": 6,
   "id": "93ab3f0f-f6fe-41c9-b75f-d4e66f98f4a0",
   "metadata": {
    "vscode": {
     "languageId": "r"
    }
   },
   "outputs": [
    {
     "name": "stderr",
     "output_type": "stream",
     "text": [
      "\u001b[1m\u001b[22mNew names:\n",
      "\u001b[36m•\u001b[39m `Arachnomyces` -> `Arachnomyces...77`\n",
      "\u001b[36m•\u001b[39m `f__Gymnoascaceae` -> `f__Gymnoascaceae...81`\n",
      "\u001b[36m•\u001b[39m `c__Eurotiomycetes` -> `c__Eurotiomycetes...87`\n",
      "\u001b[36m•\u001b[39m `Ascobolus` -> `Ascobolus...100`\n",
      "\u001b[36m•\u001b[39m `f__Pezizaceae` -> `f__Pezizaceae...103`\n",
      "\u001b[36m•\u001b[39m `f__Pyronemataceae` -> `f__Pyronemataceae...108`\n",
      "\u001b[36m•\u001b[39m `o__Hypocreales` -> `o__Hypocreales...146`\n",
      "\u001b[36m•\u001b[39m `o__Sordariales` -> `o__Sordariales...153`\n",
      "\u001b[36m•\u001b[39m `Filobasidium` -> `Filobasidium...219`\n",
      "\u001b[36m•\u001b[39m `Arachnomyces` -> `Arachnomyces...258`\n",
      "\u001b[36m•\u001b[39m `Ascobolus` -> `Ascobolus...259`\n",
      "\u001b[36m•\u001b[39m `Filobasidium` -> `Filobasidium...274`\n",
      "\u001b[36m•\u001b[39m `f__Gymnoascaceae` -> `f__Gymnoascaceae...311`\n",
      "\u001b[36m•\u001b[39m `c__Eurotiomycetes` -> `c__Eurotiomycetes...312`\n",
      "\u001b[36m•\u001b[39m `f__Pezizaceae` -> `f__Pezizaceae...313`\n",
      "\u001b[36m•\u001b[39m `f__Pyronemataceae` -> `f__Pyronemataceae...314`\n",
      "\u001b[36m•\u001b[39m `o__Hypocreales` -> `o__Hypocreales...315`\n",
      "\u001b[36m•\u001b[39m `o__Sordariales` -> `o__Sordariales...318`\n",
      "\u001b[36m•\u001b[39m `` -> `...326`\n"
     ]
    }
   ],
   "source": [
    "dataset = read_excel(\"C:/Users/edo13/Dropbox/microbiome/SoilHealth-Fungi_mod.xlsx\", range = cell_rows(4:328))\n",
    "#dataset = read_excel(\"/Users/edoardo/Dropbox/microbiome/SoilHealth-Fungi_mod.xlsx\", range = cell_rows(4:328))"
   ]
  },
  {
   "cell_type": "code",
   "execution_count": 7,
   "id": "6fe8b939-5f13-4ec3-bfba-ee5290339f8c",
   "metadata": {
    "vscode": {
     "languageId": "r"
    }
   },
   "outputs": [],
   "source": [
    "#data = dataset[, c(1:1, 3:3, 6:6, 15:16, 20:20, 24:24)]\n",
    "data = dataset[, c(1:13, 15:24)]"
   ]
  },
  {
   "cell_type": "code",
   "execution_count": 33,
   "id": "663fdf04",
   "metadata": {
    "vscode": {
     "languageId": "r"
    }
   },
   "outputs": [],
   "source": [
    "### SELECT ONLY ONE SITE\n",
    "\n",
    "#data = data[data$SITE == \"S\", ]"
   ]
  },
  {
   "cell_type": "code",
   "execution_count": 8,
   "id": "d2b7963d-a76c-4eae-abed-b3d1ce78fa10",
   "metadata": {
    "vscode": {
     "languageId": "r"
    }
   },
   "outputs": [],
   "source": [
    "# defining explanatory variables and phyla data\n",
    "# prepare dataframes for analysis\n",
    "\n",
    "abiotic = data[, c(1:1, 3:3, 6:13)]\n",
    "#abiotic = data[, c(7:13)]\n",
    "\n",
    "df_phyla <- data[, 14:23]\n",
    "df_phyla <- as.data.frame(df_phyla)\n",
    "\n",
    "abiotic <- as.data.frame(abiotic)\n",
    "\n",
    "data <- as.data.frame(data)\n",
    "\n",
    "df_phyla[is.na(df_phyla)] <- 0\n",
    "data[is.na(data)] <- 0\n",
    "abiotic[is.na(abiotic)] <- 0\n",
    "\n",
    "abiotic <- abiotic[rowSums(df_phyla != 0) > 0, ]\n",
    "data <- data[rowSums(df_phyla != 0) > 0, ]\n",
    "df_phyla <- df_phyla[rowSums(df_phyla != 0) > 0, ]\n",
    "\n",
    "#abiotic_standard <- as.data.frame(scale(abiotic))"
   ]
  },
  {
   "cell_type": "markdown",
   "id": "f2e38566-d2b7-470e-a9d5-a45de553e9f9",
   "metadata": {},
   "source": [
    "# PCA "
   ]
  },
  {
   "cell_type": "code",
   "execution_count": 9,
   "id": "fff21b5a-a5fd-4df7-9981-0b9289d1bec2",
   "metadata": {
    "vscode": {
     "languageId": "r"
    }
   },
   "outputs": [
    {
     "data": {
      "text/plain": [
       "\n",
       "Call:\n",
       "rda(X = df_phyla) \n",
       "\n",
       "Partitioning of variance:\n",
       "              Inertia Proportion\n",
       "Total            1170          1\n",
       "Unconstrained    1170          1\n",
       "\n",
       "Eigenvalues, and their contribution to the variance \n",
       "\n",
       "Importance of components:\n",
       "                           PC1      PC2      PC3      PC4      PC5     PC6\n",
       "Eigenvalue            691.0724 259.0981 120.0576 50.03848 23.61732 13.5788\n",
       "Proportion Explained    0.5905   0.2214   0.1026  0.04276  0.02018  0.0116\n",
       "Cumulative Proportion   0.5905   0.8119   0.9145  0.95725  0.97743  0.9890\n",
       "                          PC7       PC8       PC9\n",
       "Eigenvalue            12.5189 0.2591901 5.374e-02\n",
       "Proportion Explained   0.0107 0.0002215 4.592e-05\n",
       "Cumulative Proportion  0.9997 0.9999541 1.000e+00\n"
      ]
     },
     "metadata": {},
     "output_type": "display_data"
    },
    {
     "data": {
      "image/png": "[encoded data removed]",
      "text/plain": [
       "plot without title"
      ]
     },
     "metadata": {
      "image/png": {
       "height": 420,
       "width": 420
      }
     },
     "output_type": "display_data"
    }
   ],
   "source": [
    "# Set the output file to a PDF\n",
    "#pdf(\"pca.pdf\")\n",
    "\n",
    "mypca <- rda(df_phyla)\n",
    "\n",
    "# Summarize the RDA result\n",
    "summary(mypca)\n",
    "\n",
    "# Plot the RDA result\n",
    "\n",
    "ordiplot(mypca, display = c(\"sites\"), type = \"points\")\n",
    "\n",
    "groups <- data$Season\n",
    "ordihull(scores(mypca, display = \"sites\"), groups, col = c(\"red\", \"blue\", \"green\"), lwd = 2)\n",
    "# Add a legend\n",
    "legend(\"topright\", legend = c(\"SPRING\", \"AUTUMN\"), col =  c(\"red\", \"blue\"), lwd = 2, title = \"Season\")\n",
    "\n",
    "#dev.off()\n"
   ]
  },
  {
   "cell_type": "markdown",
   "id": "90ae5bd5-5e45-4811-8f8d-71b184d9abd5",
   "metadata": {},
   "source": [
    "# RDA - abiotics as explanatory variables"
   ]
  },
  {
   "cell_type": "code",
   "execution_count": 10,
   "id": "d1cfb893-1041-41ba-82d3-d3ef3151af3d",
   "metadata": {
    "vscode": {
     "languageId": "r"
    }
   },
   "outputs": [
    {
     "data": {
      "text/plain": [
       "\n",
       "Call:\n",
       "rda(formula = df_phyla ~ SITE + TREAT + Season + S.M + OM + `EC-(ds/m)` +      pH + `TN-(%)` + `OC-(%)` + `C:N`, data = abiotic) \n",
       "\n",
       "Partitioning of variance:\n",
       "              Inertia Proportion\n",
       "Total          1170.3     1.0000\n",
       "Constrained     214.0     0.1829\n",
       "Unconstrained   956.3     0.8171\n",
       "\n",
       "Eigenvalues, and their contribution to the variance \n",
       "\n",
       "Importance of components:\n",
       "                          RDA1     RDA2     RDA3     RDA4     RDA5      RDA6\n",
       "Eigenvalue            144.9859 43.97767 18.07296 4.810625 1.701727 0.3715238\n",
       "Proportion Explained    0.1239  0.03758  0.01544 0.004111 0.001454 0.0003175\n",
       "Cumulative Proportion   0.1239  0.16147  0.17691 0.181020 0.182475 0.1827920\n",
       "                           RDA7      RDA8      RDA9      PC1      PC2      PC3\n",
       "Eigenvalue            8.597e-02 3.287e-03 1.136e-03 551.2025 217.1505 98.86634\n",
       "Proportion Explained  7.346e-05 2.809e-06 9.706e-07   0.4710   0.1856  0.08448\n",
       "Cumulative Proportion 1.829e-01 1.829e-01 1.829e-01   0.6539   0.8394  0.92390\n",
       "                           PC4      PC5      PC6       PC7       PC8       PC9\n",
       "Eigenvalue            46.25847 19.01134 12.38900 11.099742 0.2547367 5.099e-02\n",
       "Proportion Explained   0.03953  0.01624  0.01059  0.009485 0.0002177 4.357e-05\n",
       "Cumulative Proportion  0.96342  0.97967  0.99025  0.999739 0.9999564 1.000e+00\n",
       "\n",
       "Accumulated constrained eigenvalues\n",
       "Importance of components:\n",
       "                          RDA1    RDA2     RDA3    RDA4     RDA5     RDA6\n",
       "Eigenvalue            144.9859 43.9777 18.07296 4.81063 1.701727 0.371524\n",
       "Proportion Explained    0.6775  0.2055  0.08445 0.02248 0.007952 0.001736\n",
       "Cumulative Proportion   0.6775  0.8830  0.96741 0.98989 0.997842 0.999578\n",
       "                           RDA7      RDA8      RDA9\n",
       "Eigenvalue            0.0859655 3.287e-03 1.136e-03\n",
       "Proportion Explained  0.0004017 1.536e-05 5.307e-06\n",
       "Cumulative Proportion 0.9999793 1.000e+00 1.000e+00\n"
      ]
     },
     "metadata": {},
     "output_type": "display_data"
    },
    {
     "data": {
      "text/html": [
       "<table class=\"dataframe\">\n",
       "<caption>A anova.cca: 11 × 4</caption>\n",
       "<thead>\n",
       "\t<tr><th></th><th scope=col>Df</th><th scope=col>Variance</th><th scope=col>F</th><th scope=col>Pr(&gt;F)</th></tr>\n",
       "\t<tr><th></th><th scope=col>&lt;dbl&gt;</th><th scope=col>&lt;dbl&gt;</th><th scope=col>&lt;dbl&gt;</th><th scope=col>&lt;dbl&gt;</th></tr>\n",
       "</thead>\n",
       "<tbody>\n",
       "\t<tr><th scope=row>SITE</th><td>  1</td><td> 13.370016</td><td> 3.8588178</td><td>0.019</td></tr>\n",
       "\t<tr><th scope=row>TREAT</th><td>  2</td><td> 63.245084</td><td> 9.1268127</td><td>0.001</td></tr>\n",
       "\t<tr><th scope=row>Season</th><td>  1</td><td> 86.204008</td><td>24.8799680</td><td>0.001</td></tr>\n",
       "\t<tr><th scope=row>S.M</th><td>  1</td><td> 20.511613</td><td> 5.9200064</td><td>0.007</td></tr>\n",
       "\t<tr><th scope=row>OM</th><td>  1</td><td>  7.709903</td><td> 2.2252115</td><td>0.101</td></tr>\n",
       "\t<tr><th scope=row>`EC-(ds/m)`</th><td>  1</td><td>  3.701730</td><td> 1.0683833</td><td>0.337</td></tr>\n",
       "\t<tr><th scope=row>pH</th><td>  1</td><td>  4.187200</td><td> 1.2084984</td><td>0.298</td></tr>\n",
       "\t<tr><th scope=row>`TN-(%)`</th><td>  1</td><td>  6.529559</td><td> 1.8845436</td><td>0.132</td></tr>\n",
       "\t<tr><th scope=row>`OC-(%)`</th><td>  1</td><td>  5.220867</td><td> 1.5068324</td><td>0.191</td></tr>\n",
       "\t<tr><th scope=row>`C:N`</th><td>  1</td><td>  3.330829</td><td> 0.9613348</td><td>0.385</td></tr>\n",
       "\t<tr><th scope=row>Residual</th><td>276</td><td>956.283632</td><td>        NA</td><td>   NA</td></tr>\n",
       "</tbody>\n",
       "</table>\n"
      ],
      "text/latex": [
       "A anova.cca: 11 × 4\n",
       "\\begin{tabular}{r|llll}\n",
       "  & Df & Variance & F & Pr(>F)\\\\\n",
       "  & <dbl> & <dbl> & <dbl> & <dbl>\\\\\n",
       "\\hline\n",
       "\tSITE &   1 &  13.370016 &  3.8588178 & 0.019\\\\\n",
       "\tTREAT &   2 &  63.245084 &  9.1268127 & 0.001\\\\\n",
       "\tSeason &   1 &  86.204008 & 24.8799680 & 0.001\\\\\n",
       "\tS.M &   1 &  20.511613 &  5.9200064 & 0.007\\\\\n",
       "\tOM &   1 &   7.709903 &  2.2252115 & 0.101\\\\\n",
       "\t`EC-(ds/m)` &   1 &   3.701730 &  1.0683833 & 0.337\\\\\n",
       "\tpH &   1 &   4.187200 &  1.2084984 & 0.298\\\\\n",
       "\t`TN-(\\%)` &   1 &   6.529559 &  1.8845436 & 0.132\\\\\n",
       "\t`OC-(\\%)` &   1 &   5.220867 &  1.5068324 & 0.191\\\\\n",
       "\t`C:N` &   1 &   3.330829 &  0.9613348 & 0.385\\\\\n",
       "\tResidual & 276 & 956.283632 &         NA &    NA\\\\\n",
       "\\end{tabular}\n"
      ],
      "text/markdown": [
       "\n",
       "A anova.cca: 11 × 4\n",
       "\n",
       "| <!--/--> | Df &lt;dbl&gt; | Variance &lt;dbl&gt; | F &lt;dbl&gt; | Pr(&gt;F) &lt;dbl&gt; |\n",
       "|---|---|---|---|---|\n",
       "| SITE |   1 |  13.370016 |  3.8588178 | 0.019 |\n",
       "| TREAT |   2 |  63.245084 |  9.1268127 | 0.001 |\n",
       "| Season |   1 |  86.204008 | 24.8799680 | 0.001 |\n",
       "| S.M |   1 |  20.511613 |  5.9200064 | 0.007 |\n",
       "| OM |   1 |   7.709903 |  2.2252115 | 0.101 |\n",
       "| `EC-(ds/m)` |   1 |   3.701730 |  1.0683833 | 0.337 |\n",
       "| pH |   1 |   4.187200 |  1.2084984 | 0.298 |\n",
       "| `TN-(%)` |   1 |   6.529559 |  1.8845436 | 0.132 |\n",
       "| `OC-(%)` |   1 |   5.220867 |  1.5068324 | 0.191 |\n",
       "| `C:N` |   1 |   3.330829 |  0.9613348 | 0.385 |\n",
       "| Residual | 276 | 956.283632 |         NA |    NA |\n",
       "\n"
      ],
      "text/plain": [
       "            Df  Variance   F          Pr(>F)\n",
       "SITE          1  13.370016  3.8588178 0.019 \n",
       "TREAT         2  63.245084  9.1268127 0.001 \n",
       "Season        1  86.204008 24.8799680 0.001 \n",
       "S.M           1  20.511613  5.9200064 0.007 \n",
       "OM            1   7.709903  2.2252115 0.101 \n",
       "`EC-(ds/m)`   1   3.701730  1.0683833 0.337 \n",
       "pH            1   4.187200  1.2084984 0.298 \n",
       "`TN-(%)`      1   6.529559  1.8845436 0.132 \n",
       "`OC-(%)`      1   5.220867  1.5068324 0.191 \n",
       "`C:N`         1   3.330829  0.9613348 0.385 \n",
       "Residual    276 956.283632         NA    NA "
      ]
     },
     "metadata": {},
     "output_type": "display_data"
    },
    {
     "data": {
      "image/png": "[encoded data removed]",
      "text/plain": [
       "plot without title"
      ]
     },
     "metadata": {
      "image/png": {
       "height": 420,
       "width": 420
      }
     },
     "output_type": "display_data"
    }
   ],
   "source": [
    "# Set the output file to a PDF\n",
    "#pdf(\"rda_abiotics_TREAT_SITE.pdf\")\n",
    "\n",
    "myrda <- rda(df_phyla ~ .,\n",
    "             data = abiotic)\n",
    "# Summarize the RDA result\n",
    "summary(myrda)\n",
    "\n",
    "# Plot the RDA result\n",
    "\n",
    "ordiplot(myrda, display = c(\"species\", \"sites\"), type = \"points\")\n",
    "\n",
    "envfit_result <- envfit(myrda, abiotic, perm = 999)\n",
    "\n",
    "groups <- data$Season\n",
    "ordihull(scores(myrda, display = \"sites\"), groups, col = c(\"red\", \"blue\"), lwd = 2)\n",
    "\n",
    "#plot(envfit_result, col = \"darkgreen\")\n",
    "\n",
    "# Add a legend\n",
    "legend(\"topright\", legend = c(\"SPRING\", \"AUTUMN\"), col =  c(\"red\", \"blue\"), lwd = 2, title = \"Season\")\n",
    "\n",
    "anova(myrda, by = \"term\")\n",
    "\n",
    "#dev.off()\n"
   ]
  },
  {
   "cell_type": "code",
   "execution_count": 11,
   "id": "6f51676e-b03e-4f3b-8f24-b40632137415",
   "metadata": {
    "vscode": {
     "languageId": "r"
    }
   },
   "outputs": [],
   "source": [
    "# Forward selection of variables:\n",
    "fwd.sel <- ordiR2step(rda(df_phyla ~ 1, data = abiotic), # lower model limit (simple!)\n",
    "               scope = formula(myrda), # upper model limit (the \"full\" model)\n",
    "               direction = \"forward\",\n",
    "               R2scope = TRUE, # can't surpass the \"full\" model's R2\n",
    "               pstep = 1000,\n",
    "               trace = FALSE) # change to TRUE to see the selection process!"
   ]
  },
  {
   "cell_type": "code",
   "execution_count": 12,
   "id": "60abbabd-91ad-4026-b318-157bbb353ee9",
   "metadata": {
    "vscode": {
     "languageId": "r"
    }
   },
   "outputs": [
    {
     "data": {
      "text/plain": [
       "rda(formula = df_phyla ~ Season + TREAT + S.M + SITE + `TN-(%)`, \n",
       "    data = abiotic)"
      ]
     },
     "metadata": {},
     "output_type": "display_data"
    }
   ],
   "source": [
    "fwd.sel$call"
   ]
  },
  {
   "cell_type": "code",
   "execution_count": 13,
   "id": "f6b8fae6-7da5-484e-976d-c5c664cc4250",
   "metadata": {
    "vscode": {
     "languageId": "r"
    }
   },
   "outputs": [],
   "source": [
    "# Write our new model\n",
    "myrda.signif <- rda(df_phyla ~ OM, data = abiotic)"
   ]
  },
  {
   "cell_type": "code",
   "execution_count": 14,
   "id": "caf49acd-c1eb-4f54-bec4-562dca1bf231",
   "metadata": {
    "vscode": {
     "languageId": "r"
    }
   },
   "outputs": [
    {
     "data": {
      "text/html": [
       "<table class=\"dataframe\">\n",
       "<caption>A anova.cca: 2 × 4</caption>\n",
       "<thead>\n",
       "\t<tr><th></th><th scope=col>Df</th><th scope=col>Variance</th><th scope=col>F</th><th scope=col>Pr(&gt;F)</th></tr>\n",
       "\t<tr><th></th><th scope=col>&lt;dbl&gt;</th><th scope=col>&lt;dbl&gt;</th><th scope=col>&lt;dbl&gt;</th><th scope=col>&lt;dbl&gt;</th></tr>\n",
       "</thead>\n",
       "<tbody>\n",
       "\t<tr><th scope=row>OM</th><td>  1</td><td>  14.52696</td><td>3.594764</td><td>0.028</td></tr>\n",
       "\t<tr><th scope=row>Residual</th><td>286</td><td>1155.76748</td><td>      NA</td><td>   NA</td></tr>\n",
       "</tbody>\n",
       "</table>\n"
      ],
      "text/latex": [
       "A anova.cca: 2 × 4\n",
       "\\begin{tabular}{r|llll}\n",
       "  & Df & Variance & F & Pr(>F)\\\\\n",
       "  & <dbl> & <dbl> & <dbl> & <dbl>\\\\\n",
       "\\hline\n",
       "\tOM &   1 &   14.52696 & 3.594764 & 0.028\\\\\n",
       "\tResidual & 286 & 1155.76748 &       NA &    NA\\\\\n",
       "\\end{tabular}\n"
      ],
      "text/markdown": [
       "\n",
       "A anova.cca: 2 × 4\n",
       "\n",
       "| <!--/--> | Df &lt;dbl&gt; | Variance &lt;dbl&gt; | F &lt;dbl&gt; | Pr(&gt;F) &lt;dbl&gt; |\n",
       "|---|---|---|---|---|\n",
       "| OM |   1 |   14.52696 | 3.594764 | 0.028 |\n",
       "| Residual | 286 | 1155.76748 |       NA |    NA |\n",
       "\n"
      ],
      "text/plain": [
       "         Df  Variance   F        Pr(>F)\n",
       "OM         1   14.52696 3.594764 0.028 \n",
       "Residual 286 1155.76748       NA    NA "
      ]
     },
     "metadata": {},
     "output_type": "display_data"
    }
   ],
   "source": [
    "anova.cca(myrda.signif, step = 1000, by = \"term\")"
   ]
  }
 ],
 "metadata": {
  "kernelspec": {
   "display_name": "R",
   "language": "R",
   "name": "ir"
  },
  "language_info": {
   "codemirror_mode": "r",
   "file_extension": ".r",
   "mimetype": "text/x-r-source",
   "name": "R",
   "pygments_lexer": "r",
   "version": "4.4.2"
  }
 },
 "nbformat": 4,
 "nbformat_minor": 5
}
