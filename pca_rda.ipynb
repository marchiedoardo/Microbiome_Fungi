{
 "cells": [
  {
   "cell_type": "code",
   "execution_count": 15,
   "id": "2ee91265-08d8-4f37-a665-9b120223b9d9",
   "metadata": {
    "vscode": {
     "languageId": "r"
    }
   },
   "outputs": [],
   "source": [
    "library(vegan)\n",
    "library(readxl)\n",
    "library(ggplot2)\n",
    "library(tibble)\n",
    "library(gclus)\n",
    "library(repr)"
   ]
  },
  {
   "cell_type": "code",
   "execution_count": 17,
   "id": "bf208e45-6563-493c-a68f-4de25920e8af",
   "metadata": {},
   "outputs": [],
   "source": [
    "ordicenter <- function (ord, groups, display = \"sites\", w = weights(ord, display), \n",
    "            show.groups, ...) \n",
    "  {\n",
    "    weights.default <- function(object, ...) NULL\n",
    "    pts <- scores(ord, display = display, ...)\n",
    "    w <- eval(w)\n",
    "    if (length(w) == 1) \n",
    "      w <- rep(1, nrow(pts))\n",
    "    if (is.null(w)) \n",
    "      w <- rep(1, nrow(pts))\n",
    "    if (!missing(show.groups)) \n",
    "    {\n",
    "      take <- groups %in% show.groups\n",
    "      pts <- pts[take, , drop = FALSE]\n",
    "      groups <- groups[take]\n",
    "      w <- w[take]\n",
    "    }\n",
    "    out <- seq(along = groups)\n",
    "    inds <- names(table(groups))\n",
    "    for (is in inds) \n",
    "    {\n",
    "      gr <- out[groups == is]\n",
    "      if (length(gr) > 1)\n",
    "      {\n",
    "        X <- pts[gr, ]\n",
    "        W <- w[gr]\n",
    "        ave <- apply(X, 2, weighted.mean, w = W)\n",
    "        vegan:::ordiArgAbsorber(ave[1], ave[2], labels = is, FUN = text, ...)\n",
    "      }\n",
    "      if (length(gr) == 1)\n",
    "      {\n",
    "        X <- pts[gr, ]\n",
    "        W <- w[gr]\n",
    "        vegan:::ordiArgAbsorber(X[1], X[2], labels = is, FUN = text, ...)\n",
    "      }\n",
    "    }\n",
    "    invisible()\n",
    "  }"
   ]
  },
  {
   "cell_type": "code",
   "execution_count": 19,
   "id": "93ab3f0f-f6fe-41c9-b75f-d4e66f98f4a0",
   "metadata": {
    "vscode": {
     "languageId": "r"
    }
   },
   "outputs": [
    {
     "name": "stderr",
     "output_type": "stream",
     "text": [
      "\u001b[1m\u001b[22mNew names:\n",
      "\u001b[36m•\u001b[39m `Arachnomyces` -> `Arachnomyces...77`\n",
      "\u001b[36m•\u001b[39m `f__Gymnoascaceae` -> `f__Gymnoascaceae...81`\n",
      "\u001b[36m•\u001b[39m `c__Eurotiomycetes` -> `c__Eurotiomycetes...87`\n",
      "\u001b[36m•\u001b[39m `Ascobolus` -> `Ascobolus...100`\n",
      "\u001b[36m•\u001b[39m `f__Pezizaceae` -> `f__Pezizaceae...103`\n",
      "\u001b[36m•\u001b[39m `f__Pyronemataceae` -> `f__Pyronemataceae...108`\n",
      "\u001b[36m•\u001b[39m `o__Hypocreales` -> `o__Hypocreales...146`\n",
      "\u001b[36m•\u001b[39m `o__Sordariales` -> `o__Sordariales...153`\n",
      "\u001b[36m•\u001b[39m `Filobasidium` -> `Filobasidium...219`\n",
      "\u001b[36m•\u001b[39m `Arachnomyces` -> `Arachnomyces...258`\n",
      "\u001b[36m•\u001b[39m `Ascobolus` -> `Ascobolus...259`\n",
      "\u001b[36m•\u001b[39m `Filobasidium` -> `Filobasidium...274`\n",
      "\u001b[36m•\u001b[39m `f__Gymnoascaceae` -> `f__Gymnoascaceae...311`\n",
      "\u001b[36m•\u001b[39m `c__Eurotiomycetes` -> `c__Eurotiomycetes...312`\n",
      "\u001b[36m•\u001b[39m `f__Pezizaceae` -> `f__Pezizaceae...313`\n",
      "\u001b[36m•\u001b[39m `f__Pyronemataceae` -> `f__Pyronemataceae...314`\n",
      "\u001b[36m•\u001b[39m `o__Hypocreales` -> `o__Hypocreales...315`\n",
      "\u001b[36m•\u001b[39m `o__Sordariales` -> `o__Sordariales...318`\n",
      "\u001b[36m•\u001b[39m `` -> `...326`\n"
     ]
    }
   ],
   "source": [
    "#dataset = read_excel(\"C:/Users/edo13/Dropbox/microbiome/SoilHealth-Fungi_mod.xlsx\", range = cell_rows(4:328))\n",
    "dataset = read_excel(\"C:/Users/edoardo.marchi/Dropbox/microbiome/SoilHealth-Fungi_mod.xlsx\", range = cell_rows(4:328))"
   ]
  },
  {
   "cell_type": "code",
   "execution_count": 21,
   "id": "6fe8b939-5f13-4ec3-bfba-ee5290339f8c",
   "metadata": {
    "vscode": {
     "languageId": "r"
    }
   },
   "outputs": [],
   "source": [
    "#data = dataset[, c(1:1, 3:3, 6:6, 15:16, 20:20, 24:24)]\n",
    "data = dataset[, c(1:13, 15:24)]"
   ]
  },
  {
   "cell_type": "code",
   "execution_count": 23,
   "id": "663fdf04",
   "metadata": {
    "vscode": {
     "languageId": "r"
    }
   },
   "outputs": [],
   "source": [
    "### SELECT ONLY ONE SITE\n",
    "\n",
    "#data = data[data$SITE == \"S\", ]"
   ]
  },
  {
   "cell_type": "code",
   "execution_count": 25,
   "id": "d2b7963d-a76c-4eae-abed-b3d1ce78fa10",
   "metadata": {
    "vscode": {
     "languageId": "r"
    }
   },
   "outputs": [],
   "source": [
    "# defining explanatory variables and phyla data\n",
    "# prepare dataframes for analysis\n",
    "\n",
    "abiotic = data[, c(1:1, 3:3, 6:13)]\n",
    "#abiotic = data[, c(7:13)]\n",
    "\n",
    "df_phyla <- data[, c(14:23)]\n",
    "df_phyla <- as.data.frame(df_phyla)\n",
    "\n",
    "abiotic <- as.data.frame(abiotic)\n",
    "\n",
    "data <- as.data.frame(data)\n",
    "\n",
    "df_phyla[is.na(df_phyla)] <- 0\n",
    "data[is.na(data)] <- 0\n",
    "abiotic[is.na(abiotic)] <- 0\n",
    "\n",
    "abiotic <- abiotic[rowSums(df_phyla != 0) > 0, ]\n",
    "data <- data[rowSums(df_phyla != 0) > 0, ]\n",
    "df_phyla <- df_phyla[rowSums(df_phyla != 0) > 0, ]\n",
    "\n",
    "#abiotic_standard <- as.data.frame(scale(abiotic))"
   ]
  },
  {
   "cell_type": "markdown",
   "id": "f2e38566-d2b7-470e-a9d5-a45de553e9f9",
   "metadata": {},
   "source": [
    "# PCA "
   ]
  },
  {
   "cell_type": "code",
   "execution_count": 51,
   "id": "fff21b5a-a5fd-4df7-9981-0b9289d1bec2",
   "metadata": {
    "vscode": {
     "languageId": "r"
    }
   },
   "outputs": [
    {
     "data": {
      "text/plain": [
       "\n",
       "Call:\n",
       "rda(X = df_phyla) \n",
       "\n",
       "Partitioning of variance:\n",
       "              Inertia Proportion\n",
       "Total            1170          1\n",
       "Unconstrained    1170          1\n",
       "\n",
       "Eigenvalues, and their contribution to the variance \n",
       "\n",
       "Importance of components:\n",
       "                           PC1      PC2      PC3      PC4      PC5     PC6\n",
       "Eigenvalue            691.0724 259.0981 120.0576 50.03848 23.61732 13.5788\n",
       "Proportion Explained    0.5905   0.2214   0.1026  0.04276  0.02018  0.0116\n",
       "Cumulative Proportion   0.5905   0.8119   0.9145  0.95725  0.97743  0.9890\n",
       "                          PC7       PC8       PC9\n",
       "Eigenvalue            12.5189 0.2591901 5.374e-02\n",
       "Proportion Explained   0.0107 0.0002215 4.592e-05\n",
       "Cumulative Proportion  0.9997 0.9999541 1.000e+00\n"
      ]
     },
     "metadata": {},
     "output_type": "display_data"
    },
    {
     "data": {
      "image/png": "[encoded data removed]",
      "text/plain": [
       "plot without title"
      ]
     },
     "metadata": {
      "image/png": {
       "height": 420,
       "width": 420
      }
     },
     "output_type": "display_data"
    }
   ],
   "source": [
    "# Set the output file to a PDF\n",
    "#pdf(\"pca.pdf\")\n",
    "\n",
    "mypca <- rda(df_phyla)\n",
    "\n",
    "# Summarize the RDA result\n",
    "summary(mypca)\n",
    "\n",
    "# Plot the RDA result\n",
    "\n",
    "ordiplot(mypca, display = c(\"sites\", \"species\"), type = \"none\")\n",
    "# Add sites with colors based on groups\n",
    "points(scores(myrda, display = \"sites\"), col = group_colors, pch = 16, cex = 1.2)\n",
    "\n",
    "groups <- data$Season\n",
    "\n",
    "ordispider(myrda, groups, display = \"sites\", col = c(\"green\", \"brown\"))\n",
    "# Add a legend\n",
    "legend(\"topright\", legend = c(\"SPRING\", \"AUTUMN\"), col =  c(\"green\", \"brown\"), lwd = 2, title = \"Season\")\n",
    "\n",
    "\n"
   ]
  },
  {
   "cell_type": "markdown",
   "id": "90ae5bd5-5e45-4811-8f8d-71b184d9abd5",
   "metadata": {},
   "source": [
    "# RDA - abiotics as explanatory variables"
   ]
  },
  {
   "cell_type": "code",
   "execution_count": 43,
   "id": "d1cfb893-1041-41ba-82d3-d3ef3151af3d",
   "metadata": {
    "vscode": {
     "languageId": "r"
    }
   },
   "outputs": [
    {
     "data": {
      "text/plain": [
       "\n",
       "Call:\n",
       "rda(formula = df_phyla ~ SITE + TREAT + Season + S.M + OM + `EC-(ds/m)` +      pH + `TN-(%)` + `OC-(%)` + `C:N`, data = abiotic) \n",
       "\n",
       "Partitioning of variance:\n",
       "              Inertia Proportion\n",
       "Total          1170.3     1.0000\n",
       "Constrained     214.0     0.1829\n",
       "Unconstrained   956.3     0.8171\n",
       "\n",
       "Eigenvalues, and their contribution to the variance \n",
       "\n",
       "Importance of components:\n",
       "                          RDA1     RDA2     RDA3     RDA4     RDA5      RDA6\n",
       "Eigenvalue            144.9859 43.97767 18.07296 4.810625 1.701727 0.3715238\n",
       "Proportion Explained    0.1239  0.03758  0.01544 0.004111 0.001454 0.0003175\n",
       "Cumulative Proportion   0.1239  0.16147  0.17691 0.181020 0.182475 0.1827920\n",
       "                           RDA7      RDA8      RDA9      PC1      PC2      PC3\n",
       "Eigenvalue            8.597e-02 3.287e-03 1.136e-03 551.2025 217.1505 98.86634\n",
       "Proportion Explained  7.346e-05 2.809e-06 9.706e-07   0.4710   0.1856  0.08448\n",
       "Cumulative Proportion 1.829e-01 1.829e-01 1.829e-01   0.6539   0.8394  0.92390\n",
       "                           PC4      PC5      PC6       PC7       PC8       PC9\n",
       "Eigenvalue            46.25847 19.01134 12.38900 11.099742 0.2547367 5.099e-02\n",
       "Proportion Explained   0.03953  0.01624  0.01059  0.009485 0.0002177 4.357e-05\n",
       "Cumulative Proportion  0.96342  0.97967  0.99025  0.999739 0.9999564 1.000e+00\n",
       "\n",
       "Accumulated constrained eigenvalues\n",
       "Importance of components:\n",
       "                          RDA1    RDA2     RDA3    RDA4     RDA5     RDA6\n",
       "Eigenvalue            144.9859 43.9777 18.07296 4.81063 1.701727 0.371524\n",
       "Proportion Explained    0.6775  0.2055  0.08445 0.02248 0.007952 0.001736\n",
       "Cumulative Proportion   0.6775  0.8830  0.96741 0.98989 0.997842 0.999578\n",
       "                           RDA7      RDA8      RDA9\n",
       "Eigenvalue            0.0859655 3.287e-03 1.136e-03\n",
       "Proportion Explained  0.0004017 1.536e-05 5.307e-06\n",
       "Cumulative Proportion 0.9999793 1.000e+00 1.000e+00\n"
      ]
     },
     "metadata": {},
     "output_type": "display_data"
    },
    {
     "data": {
      "text/html": [
       "<table class=\"dataframe\">\n",
       "<caption>A anova.cca: 11 × 4</caption>\n",
       "<thead>\n",
       "\t<tr><th></th><th scope=col>Df</th><th scope=col>Variance</th><th scope=col>F</th><th scope=col>Pr(&gt;F)</th></tr>\n",
       "\t<tr><th></th><th scope=col>&lt;dbl&gt;</th><th scope=col>&lt;dbl&gt;</th><th scope=col>&lt;dbl&gt;</th><th scope=col>&lt;dbl&gt;</th></tr>\n",
       "</thead>\n",
       "<tbody>\n",
       "\t<tr><th scope=row>SITE</th><td>  1</td><td> 13.370016</td><td> 3.8588178</td><td>0.016</td></tr>\n",
       "\t<tr><th scope=row>TREAT</th><td>  2</td><td> 63.245084</td><td> 9.1268127</td><td>0.001</td></tr>\n",
       "\t<tr><th scope=row>Season</th><td>  1</td><td> 86.204008</td><td>24.8799680</td><td>0.001</td></tr>\n",
       "\t<tr><th scope=row>S.M</th><td>  1</td><td> 20.511613</td><td> 5.9200064</td><td>0.001</td></tr>\n",
       "\t<tr><th scope=row>OM</th><td>  1</td><td>  7.709903</td><td> 2.2252115</td><td>0.089</td></tr>\n",
       "\t<tr><th scope=row>`EC-(ds/m)`</th><td>  1</td><td>  3.701730</td><td> 1.0683833</td><td>0.342</td></tr>\n",
       "\t<tr><th scope=row>pH</th><td>  1</td><td>  4.187200</td><td> 1.2084984</td><td>0.279</td></tr>\n",
       "\t<tr><th scope=row>`TN-(%)`</th><td>  1</td><td>  6.529559</td><td> 1.8845436</td><td>0.137</td></tr>\n",
       "\t<tr><th scope=row>`OC-(%)`</th><td>  1</td><td>  5.220867</td><td> 1.5068324</td><td>0.200</td></tr>\n",
       "\t<tr><th scope=row>`C:N`</th><td>  1</td><td>  3.330829</td><td> 0.9613348</td><td>0.388</td></tr>\n",
       "\t<tr><th scope=row>Residual</th><td>276</td><td>956.283632</td><td>        NA</td><td>   NA</td></tr>\n",
       "</tbody>\n",
       "</table>\n"
      ],
      "text/latex": [
       "A anova.cca: 11 × 4\n",
       "\\begin{tabular}{r|llll}\n",
       "  & Df & Variance & F & Pr(>F)\\\\\n",
       "  & <dbl> & <dbl> & <dbl> & <dbl>\\\\\n",
       "\\hline\n",
       "\tSITE &   1 &  13.370016 &  3.8588178 & 0.016\\\\\n",
       "\tTREAT &   2 &  63.245084 &  9.1268127 & 0.001\\\\\n",
       "\tSeason &   1 &  86.204008 & 24.8799680 & 0.001\\\\\n",
       "\tS.M &   1 &  20.511613 &  5.9200064 & 0.001\\\\\n",
       "\tOM &   1 &   7.709903 &  2.2252115 & 0.089\\\\\n",
       "\t`EC-(ds/m)` &   1 &   3.701730 &  1.0683833 & 0.342\\\\\n",
       "\tpH &   1 &   4.187200 &  1.2084984 & 0.279\\\\\n",
       "\t`TN-(\\%)` &   1 &   6.529559 &  1.8845436 & 0.137\\\\\n",
       "\t`OC-(\\%)` &   1 &   5.220867 &  1.5068324 & 0.200\\\\\n",
       "\t`C:N` &   1 &   3.330829 &  0.9613348 & 0.388\\\\\n",
       "\tResidual & 276 & 956.283632 &         NA &    NA\\\\\n",
       "\\end{tabular}\n"
      ],
      "text/markdown": [
       "\n",
       "A anova.cca: 11 × 4\n",
       "\n",
       "| <!--/--> | Df &lt;dbl&gt; | Variance &lt;dbl&gt; | F &lt;dbl&gt; | Pr(&gt;F) &lt;dbl&gt; |\n",
       "|---|---|---|---|---|\n",
       "| SITE |   1 |  13.370016 |  3.8588178 | 0.016 |\n",
       "| TREAT |   2 |  63.245084 |  9.1268127 | 0.001 |\n",
       "| Season |   1 |  86.204008 | 24.8799680 | 0.001 |\n",
       "| S.M |   1 |  20.511613 |  5.9200064 | 0.001 |\n",
       "| OM |   1 |   7.709903 |  2.2252115 | 0.089 |\n",
       "| `EC-(ds/m)` |   1 |   3.701730 |  1.0683833 | 0.342 |\n",
       "| pH |   1 |   4.187200 |  1.2084984 | 0.279 |\n",
       "| `TN-(%)` |   1 |   6.529559 |  1.8845436 | 0.137 |\n",
       "| `OC-(%)` |   1 |   5.220867 |  1.5068324 | 0.200 |\n",
       "| `C:N` |   1 |   3.330829 |  0.9613348 | 0.388 |\n",
       "| Residual | 276 | 956.283632 |         NA |    NA |\n",
       "\n"
      ],
      "text/plain": [
       "            Df  Variance   F          Pr(>F)\n",
       "SITE          1  13.370016  3.8588178 0.016 \n",
       "TREAT         2  63.245084  9.1268127 0.001 \n",
       "Season        1  86.204008 24.8799680 0.001 \n",
       "S.M           1  20.511613  5.9200064 0.001 \n",
       "OM            1   7.709903  2.2252115 0.089 \n",
       "`EC-(ds/m)`   1   3.701730  1.0683833 0.342 \n",
       "pH            1   4.187200  1.2084984 0.279 \n",
       "`TN-(%)`      1   6.529559  1.8845436 0.137 \n",
       "`OC-(%)`      1   5.220867  1.5068324 0.200 \n",
       "`C:N`         1   3.330829  0.9613348 0.388 \n",
       "Residual    276 956.283632         NA    NA "
      ]
     },
     "metadata": {},
     "output_type": "display_data"
    },
    {
     "data": {
      "image/png": "[encoded data removed]",
      "text/plain": [
       "plot without title"
      ]
     },
     "metadata": {
      "image/png": {
       "height": 420,
       "width": 420
      }
     },
     "output_type": "display_data"
    }
   ],
   "source": [
    "# Set the output file to a PDF\n",
    "#pdf(\"rda_abiotics_TREAT_SITE.pdf\")\n",
    "\n",
    "myrda <- rda(df_phyla ~ .,\n",
    "             data = abiotic)\n",
    "# Summarize the RDA result\n",
    "summary(myrda)\n",
    "\n",
    "# Plot the RDA result\n",
    "\n",
    "ordiplot(myrda, display = c(\"species\", \"sites\"), type = \"none\", choices = c(1, 2))\n",
    "\n",
    "envfit_result <- envfit(myrda, abiotic, perm = 999)\n",
    "\n",
    "# Define groups (e.g., based on Management)\n",
    "groups <- as.factor(data$Season)\n",
    "\n",
    "# Define colors for groups\n",
    "group_colors <- c(\"green\", \"brown\")  # One color per group\n",
    "group_colors <- group_colors[as.numeric(groups)]  # Match group to color\n",
    "\n",
    "# Add sites with colors based on groups\n",
    "points(scores(myrda, display = \"sites\"), col = group_colors, pch = 16, cex = 1.2)\n",
    "\n",
    "ordispider(myrda, groups, display = \"sites\", col = c(\"green\", \"brown\"))\n",
    "\n",
    "# Add a legend\n",
    "legend(\"topright\", legend = c(\"SPRING\", \"AUTUMN\"), col =  c(\"green\", \"brown\"), lwd = 2, title = \"Season\")\n",
    "\n",
    "anova(myrda, by = \"term\")"
   ]
  },
  {
   "cell_type": "code",
   "execution_count": 104,
   "id": "6f51676e-b03e-4f3b-8f24-b40632137415",
   "metadata": {
    "vscode": {
     "languageId": "r"
    }
   },
   "outputs": [],
   "source": [
    "# Forward selection of variables:\n",
    "fwd.sel <- ordiR2step(rda(df_phyla ~ 1, data = abiotic), # lower model limit (simple!)\n",
    "               scope = formula(myrda), # upper model limit (the \"full\" model)\n",
    "               direction = \"forward\",\n",
    "               R2scope = TRUE, # can't surpass the \"full\" model's R2\n",
    "               pstep = 1000,\n",
    "               trace = FALSE) # change to TRUE to see the selection process!"
   ]
  },
  {
   "cell_type": "code",
   "execution_count": null,
   "id": "60abbabd-91ad-4026-b318-157bbb353ee9",
   "metadata": {
    "vscode": {
     "languageId": "r"
    }
   },
   "outputs": [],
   "source": [
    "fwd.sel$call"
   ]
  },
  {
   "cell_type": "code",
   "execution_count": null,
   "id": "f6b8fae6-7da5-484e-976d-c5c664cc4250",
   "metadata": {
    "vscode": {
     "languageId": "r"
    }
   },
   "outputs": [],
   "source": [
    "# Write our new model\n",
    "myrda.signif <- rda(df_phyla ~ OM, data = abiotic)"
   ]
  },
  {
   "cell_type": "code",
   "execution_count": 106,
   "id": "caf49acd-c1eb-4f54-bec4-562dca1bf231",
   "metadata": {
    "vscode": {
     "languageId": "r"
    }
   },
   "outputs": [
    {
     "data": {
      "text/html": [
       "<table class=\"dataframe\">\n",
       "<caption>A anova.cca: 2 × 4</caption>\n",
       "<thead>\n",
       "\t<tr><th></th><th scope=col>Df</th><th scope=col>Variance</th><th scope=col>F</th><th scope=col>Pr(&gt;F)</th></tr>\n",
       "\t<tr><th></th><th scope=col>&lt;dbl&gt;</th><th scope=col>&lt;dbl&gt;</th><th scope=col>&lt;dbl&gt;</th><th scope=col>&lt;dbl&gt;</th></tr>\n",
       "</thead>\n",
       "<tbody>\n",
       "\t<tr><th scope=row>OM</th><td>  1</td><td>  14.22758</td><td>4.040232</td><td>0.019</td></tr>\n",
       "\t<tr><th scope=row>Residual</th><td>286</td><td>1007.14182</td><td>      NA</td><td>   NA</td></tr>\n",
       "</tbody>\n",
       "</table>\n"
      ],
      "text/latex": [
       "A anova.cca: 2 × 4\n",
       "\\begin{tabular}{r|llll}\n",
       "  & Df & Variance & F & Pr(>F)\\\\\n",
       "  & <dbl> & <dbl> & <dbl> & <dbl>\\\\\n",
       "\\hline\n",
       "\tOM &   1 &   14.22758 & 4.040232 & 0.019\\\\\n",
       "\tResidual & 286 & 1007.14182 &       NA &    NA\\\\\n",
       "\\end{tabular}\n"
      ],
      "text/markdown": [
       "\n",
       "A anova.cca: 2 × 4\n",
       "\n",
       "| <!--/--> | Df &lt;dbl&gt; | Variance &lt;dbl&gt; | F &lt;dbl&gt; | Pr(&gt;F) &lt;dbl&gt; |\n",
       "|---|---|---|---|---|\n",
       "| OM |   1 |   14.22758 | 4.040232 | 0.019 |\n",
       "| Residual | 286 | 1007.14182 |       NA |    NA |\n",
       "\n"
      ],
      "text/plain": [
       "         Df  Variance   F        Pr(>F)\n",
       "OM         1   14.22758 4.040232 0.019 \n",
       "Residual 286 1007.14182       NA    NA "
      ]
     },
     "metadata": {},
     "output_type": "display_data"
    }
   ],
   "source": [
    "anova.cca(myrda.signif, step = 1000, by = \"term\")"
   ]
  },
  {
   "cell_type": "markdown",
   "id": "3bbf9ec0",
   "metadata": {
    "vscode": {
     "languageId": "r"
    }
   },
   "source": [
    "# PCoA"
   ]
  },
  {
   "cell_type": "code",
   "execution_count": 165,
   "id": "4aaf0f05",
   "metadata": {
    "vscode": {
     "languageId": "r"
    }
   },
   "outputs": [],
   "source": [
    "phyla_dist <- dist(df_phyla, method = \"euclidean\")\n",
    "phyla_pco <- cmdscale(phyla_dist, eig = TRUE, k = 3)\n",
    "eig_num <- seq(1, length(phyla_pco$eig), 1)\n",
    "#barplot(phyla_pco$eig[1:20], names.arg = eig_num[1:20], main = \"PCO eigenvalue Scree plot\")"
   ]
  },
  {
   "cell_type": "code",
   "execution_count": 197,
   "id": "76f1fb7b-0413-4b68-8a30-b04aea52786f",
   "metadata": {},
   "outputs": [
    {
     "data": {
      "text/html": [
       "<strong>pdf:</strong> 2"
      ],
      "text/latex": [
       "\\textbf{pdf:} 2"
      ],
      "text/markdown": [
       "**pdf:** 2"
      ],
      "text/plain": [
       "pdf \n",
       "  2 "
      ]
     },
     "metadata": {},
     "output_type": "display_data"
    }
   ],
   "source": [
    "pdf(\"pcoa_phyla.pdf\")\n",
    "\n",
    "ordiplot(phyla_pco,\n",
    "         choices = c(1, 2),\n",
    "         display='sites',\n",
    "         type ='none',\n",
    "         main = \"PCoA Ordination\",\n",
    "         xlab = \"PCoA 1\",\n",
    "         ylab = \"PCoA 2\",\n",
    "         cex.main = 2,\n",
    "         cex.axis = 1.5,\n",
    "         cex.lab = 1.5)\n",
    "\n",
    "#plot(NA, xlim = c(-50, 50), ylim = c(-8, 10.5), xlab = \"PCoA 1\", ylab = \"PCoA 2\", main = \"PCoA Ordination\")\n",
    "\n",
    "# Define groups (e.g., based on Management)\n",
    "groups <- as.factor(data$Season)\n",
    "\n",
    "# Define colors for groups\n",
    "group_colors <- c(\"springgreen2\", \"brown\")  # One color per group\n",
    "group_colors <- group_colors[as.numeric(groups)]  # Match group to color\n",
    "\n",
    "# Add sites with colors based on groups\n",
    "points(scores(phyla_pco, display = \"sites\"), col = group_colors, pch = 16, cex = 1.2)\n",
    "\n",
    "ordispider(phyla_pco, groups, display = \"sites\", \n",
    "           col = c(\"springgreen2\", \"brown\"))\n",
    "\n",
    "# Add a legend\n",
    "legend(\"bottomright\", legend = c(\"SPRING\", \"AUTUMN\"), col =  c(\"springgreen2\", \"brown\"), lwd = 2, title = \"Season\", cex = 1.5)\n",
    "\n",
    "dev.off()\n",
    "\n"
   ]
  },
  {
   "cell_type": "markdown",
   "id": "c0140588-a276-48d4-b943-65c1dfe0e004",
   "metadata": {
    "vscode": {
     "languageId": "r"
    }
   },
   "source": [
    "# CCA "
   ]
  },
  {
   "cell_type": "code",
   "execution_count": 199,
   "id": "919680d1",
   "metadata": {
    "vscode": {
     "languageId": "r"
    }
   },
   "outputs": [
    {
     "data": {
      "text/plain": [
       "\n",
       "Call:\n",
       "cca(formula = df_phyla ~ SITE + TREAT + Season + S.M + OM + `EC-(ds/m)` +      pH + `TN-(%)` + `OC-(%)` + `C:N`, data = abiotic) \n",
       "\n",
       "Partitioning of scaled Chi-square:\n",
       "              Inertia Proportion\n",
       "Total          1.3365     1.0000\n",
       "Constrained    0.1941     0.1453\n",
       "Unconstrained  1.1423     0.8547\n",
       "\n",
       "Eigenvalues, and their contribution to the scaled Chi-square \n",
       "\n",
       "Importance of components:\n",
       "                         CCA1    CCA2    CCA3    CCA4     CCA5     CCA6\n",
       "Eigenvalue            0.07565 0.05242 0.03471 0.02053 0.006575 0.002617\n",
       "Proportion Explained  0.05660 0.03922 0.02597 0.01536 0.004920 0.001958\n",
       "Cumulative Proportion 0.05660 0.09583 0.12180 0.13716 0.142079 0.144037\n",
       "                           CCA7      CCA8      CCA9    CA1    CA2    CA3    CA4\n",
       "Eigenvalue            0.0006975 0.0004797 0.0004612 0.2492 0.2172 0.1600 0.1412\n",
       "Proportion Explained  0.0005219 0.0003590 0.0003451 0.1864 0.1625 0.1197 0.1057\n",
       "Cumulative Proportion 0.1445586 0.1449176 0.1452627 0.3317 0.4942 0.6139 0.7196\n",
       "                          CA5     CA6     CA7     CA8     CA9\n",
       "Eigenvalue            0.12722 0.10633 0.06817 0.05181 0.02123\n",
       "Proportion Explained  0.09519 0.07956 0.05101 0.03876 0.01588\n",
       "Cumulative Proportion 0.81478 0.89434 0.94535 0.98412 1.00000\n",
       "\n",
       "Accumulated constrained eigenvalues\n",
       "Importance of components:\n",
       "                         CCA1    CCA2    CCA3    CCA4     CCA5     CCA6\n",
       "Eigenvalue            0.07565 0.05242 0.03471 0.02053 0.006575 0.002617\n",
       "Proportion Explained  0.38965 0.27002 0.17880 0.10574 0.033869 0.013478\n",
       "Cumulative Proportion 0.38965 0.65967 0.83847 0.94421 0.978082 0.991560\n",
       "                           CCA7      CCA8      CCA9\n",
       "Eigenvalue            0.0006975 0.0004797 0.0004612\n",
       "Proportion Explained  0.0035930 0.0024711 0.0023758\n",
       "Cumulative Proportion 0.9951531 0.9976242 1.0000000\n"
      ]
     },
     "metadata": {},
     "output_type": "display_data"
    },
    {
     "data": {
      "text/html": [
       "<table class=\"dataframe\">\n",
       "<caption>A anova.cca: 11 × 4</caption>\n",
       "<thead>\n",
       "\t<tr><th></th><th scope=col>Df</th><th scope=col>ChiSquare</th><th scope=col>F</th><th scope=col>Pr(&gt;F)</th></tr>\n",
       "\t<tr><th></th><th scope=col>&lt;dbl&gt;</th><th scope=col>&lt;dbl&gt;</th><th scope=col>&lt;dbl&gt;</th><th scope=col>&lt;dbl&gt;</th></tr>\n",
       "</thead>\n",
       "<tbody>\n",
       "\t<tr><th scope=row>SITE</th><td>  1</td><td>0.017155640</td><td>4.145047</td><td>0.001</td></tr>\n",
       "\t<tr><th scope=row>TREAT</th><td>  2</td><td>0.079177770</td><td>9.565238</td><td>0.001</td></tr>\n",
       "\t<tr><th scope=row>Season</th><td>  1</td><td>0.036861020</td><td>8.906148</td><td>0.001</td></tr>\n",
       "\t<tr><th scope=row>S.M</th><td>  1</td><td>0.010995308</td><td>2.656623</td><td>0.024</td></tr>\n",
       "\t<tr><th scope=row>OM</th><td>  1</td><td>0.004882383</td><td>1.179653</td><td>0.299</td></tr>\n",
       "\t<tr><th scope=row>`EC-(ds/m)`</th><td>  1</td><td>0.004578469</td><td>1.106223</td><td>0.354</td></tr>\n",
       "\t<tr><th scope=row>pH</th><td>  1</td><td>0.023189840</td><td>5.602996</td><td>0.002</td></tr>\n",
       "\t<tr><th scope=row>`TN-(%)`</th><td>  1</td><td>0.005336992</td><td>1.289493</td><td>0.259</td></tr>\n",
       "\t<tr><th scope=row>`OC-(%)`</th><td>  1</td><td>0.004921376</td><td>1.189075</td><td>0.299</td></tr>\n",
       "\t<tr><th scope=row>`C:N`</th><td>  1</td><td>0.007038024</td><td>1.700487</td><td>0.096</td></tr>\n",
       "\t<tr><th scope=row>Residual</th><td>276</td><td>1.142316768</td><td>      NA</td><td>   NA</td></tr>\n",
       "</tbody>\n",
       "</table>\n"
      ],
      "text/latex": [
       "A anova.cca: 11 × 4\n",
       "\\begin{tabular}{r|llll}\n",
       "  & Df & ChiSquare & F & Pr(>F)\\\\\n",
       "  & <dbl> & <dbl> & <dbl> & <dbl>\\\\\n",
       "\\hline\n",
       "\tSITE &   1 & 0.017155640 & 4.145047 & 0.001\\\\\n",
       "\tTREAT &   2 & 0.079177770 & 9.565238 & 0.001\\\\\n",
       "\tSeason &   1 & 0.036861020 & 8.906148 & 0.001\\\\\n",
       "\tS.M &   1 & 0.010995308 & 2.656623 & 0.024\\\\\n",
       "\tOM &   1 & 0.004882383 & 1.179653 & 0.299\\\\\n",
       "\t`EC-(ds/m)` &   1 & 0.004578469 & 1.106223 & 0.354\\\\\n",
       "\tpH &   1 & 0.023189840 & 5.602996 & 0.002\\\\\n",
       "\t`TN-(\\%)` &   1 & 0.005336992 & 1.289493 & 0.259\\\\\n",
       "\t`OC-(\\%)` &   1 & 0.004921376 & 1.189075 & 0.299\\\\\n",
       "\t`C:N` &   1 & 0.007038024 & 1.700487 & 0.096\\\\\n",
       "\tResidual & 276 & 1.142316768 &       NA &    NA\\\\\n",
       "\\end{tabular}\n"
      ],
      "text/markdown": [
       "\n",
       "A anova.cca: 11 × 4\n",
       "\n",
       "| <!--/--> | Df &lt;dbl&gt; | ChiSquare &lt;dbl&gt; | F &lt;dbl&gt; | Pr(&gt;F) &lt;dbl&gt; |\n",
       "|---|---|---|---|---|\n",
       "| SITE |   1 | 0.017155640 | 4.145047 | 0.001 |\n",
       "| TREAT |   2 | 0.079177770 | 9.565238 | 0.001 |\n",
       "| Season |   1 | 0.036861020 | 8.906148 | 0.001 |\n",
       "| S.M |   1 | 0.010995308 | 2.656623 | 0.024 |\n",
       "| OM |   1 | 0.004882383 | 1.179653 | 0.299 |\n",
       "| `EC-(ds/m)` |   1 | 0.004578469 | 1.106223 | 0.354 |\n",
       "| pH |   1 | 0.023189840 | 5.602996 | 0.002 |\n",
       "| `TN-(%)` |   1 | 0.005336992 | 1.289493 | 0.259 |\n",
       "| `OC-(%)` |   1 | 0.004921376 | 1.189075 | 0.299 |\n",
       "| `C:N` |   1 | 0.007038024 | 1.700487 | 0.096 |\n",
       "| Residual | 276 | 1.142316768 |       NA |    NA |\n",
       "\n"
      ],
      "text/plain": [
       "            Df  ChiSquare   F        Pr(>F)\n",
       "SITE          1 0.017155640 4.145047 0.001 \n",
       "TREAT         2 0.079177770 9.565238 0.001 \n",
       "Season        1 0.036861020 8.906148 0.001 \n",
       "S.M           1 0.010995308 2.656623 0.024 \n",
       "OM            1 0.004882383 1.179653 0.299 \n",
       "`EC-(ds/m)`   1 0.004578469 1.106223 0.354 \n",
       "pH            1 0.023189840 5.602996 0.002 \n",
       "`TN-(%)`      1 0.005336992 1.289493 0.259 \n",
       "`OC-(%)`      1 0.004921376 1.189075 0.299 \n",
       "`C:N`         1 0.007038024 1.700487 0.096 \n",
       "Residual    276 1.142316768       NA    NA "
      ]
     },
     "metadata": {},
     "output_type": "display_data"
    },
    {
     "data": {
      "text/html": [
       "<strong>pdf:</strong> 2"
      ],
      "text/latex": [
       "\\textbf{pdf:} 2"
      ],
      "text/markdown": [
       "**pdf:** 2"
      ],
      "text/plain": [
       "pdf \n",
       "  2 "
      ]
     },
     "metadata": {},
     "output_type": "display_data"
    }
   ],
   "source": [
    "# Set the output file to a PDF\n",
    "pdf(\"cca_phyla.pdf\")\n",
    "\n",
    "mycca <- cca(df_phyla ~ .,\n",
    "             data = abiotic)\n",
    "# Summarize the RDA result\n",
    "summary(mycca)\n",
    "\n",
    "# Plot the RDA result\n",
    "\n",
    "plot(NA, xlim = c(-7, 5), ylim = c(-8, 10.5), xlab = \"CCA 1\", ylab = \"CCA 2\", main = \"CCA Ordination\", cex.lab = 1.5, cex.axis = 1.5, cex.main = 2 )\n",
    "\n",
    "#ordiplot(mycca, display = c(\"species\", \"sites\"), type = \"points\", choices = c(1, 2))\n",
    "\n",
    "envfit_result <- envfit(mycca, abiotic, perm = 999)\n",
    "\n",
    "# Define groups (e.g., based on Management)\n",
    "groups <- as.factor(abiotic$Season)\n",
    "\n",
    "# Define colors for groups\n",
    "group_colors <- c(\"springgreen2\", \"brown\")  # One color per group\n",
    "group_colors <- group_colors[as.numeric(groups)]  # Match group to color\n",
    "\n",
    "# Add sites with colors based on groups\n",
    "points(scores(mycca, display = \"sites\"), col = group_colors, pch = 16, cex = 1.2)\n",
    "\n",
    "ordispider(mycca, groups, display = \"sites\", col = c(\"springgreen2\", \"brown\"))\n",
    "\n",
    "#ordihull(scores(myrda, display = \"sites\"), groups, col = c(\"red\", \"blue\"), lwd = 2)\n",
    "\n",
    "#plot(envfit_result, col = \"darkgreen\")\n",
    "\n",
    "# Add a legend\n",
    "legend(\"topright\", legend = c(\"SPRING\", \"AUTUMN\"), col =  c(\"springgreen2\", \"brown\"), lwd = 2, title = \"Season\", cex = 1.5)\n",
    "\n",
    "anova(mycca, by = \"term\")\n",
    "\n",
    "dev.off()"
   ]
  },
  {
   "cell_type": "code",
   "execution_count": null,
   "id": "a90fb8c1-0118-4e25-9974-7d08ad0f2b14",
   "metadata": {},
   "outputs": [],
   "source": []
  }
 ],
 "metadata": {
  "kernelspec": {
   "display_name": "R",
   "language": "R",
   "name": "ir"
  },
  "language_info": {
   "codemirror_mode": "r",
   "file_extension": ".r",
   "mimetype": "text/x-r-source",
   "name": "R",
   "pygments_lexer": "r",
   "version": "4.4.2"
  }
 },
 "nbformat": 4,
 "nbformat_minor": 5
}
